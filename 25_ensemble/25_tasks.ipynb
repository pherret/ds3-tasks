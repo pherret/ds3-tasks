{
 "cells": [
  {
   "cell_type": "code",
   "execution_count": 1,
   "metadata": {
    "collapsed": true
   },
   "outputs": [],
   "source": [
    "%matplotlib inline\n",
    "%config InlineBackend.figure_format = 'retina'\n",
    "\n",
    "import pandas as pd\n",
    "import numpy as np\n",
    "import tqdm\n",
    "import missingno as mn\n",
    "\n",
    "# Visualization libs\n",
    "import matplotlib as mpl\n",
    "import matplotlib.pyplot as plt\n",
    "import seaborn as sns\n",
    "\n",
    "palette = sns.hls_palette(8, l=0.7, s=.8)\n",
    "sns.set(rc={\"figure.figsize\": (6, 6)}, palette=palette)\n",
    "sns.set_style(\"whitegrid\")\n",
    "mpl.rcParams['figure.figsize'] = (10, 5)"
   ]
  },
  {
   "cell_type": "code",
   "execution_count": 2,
   "metadata": {
    "collapsed": true
   },
   "outputs": [],
   "source": [
    "from sklearn.preprocessing import LabelEncoder\n",
    "from sklearn.model_selection import train_test_split, KFold\n",
    "\n",
    "from sklearn.linear_model import LinearRegression, Lasso\n",
    "from sklearn.tree import DecisionTreeRegressor\n",
    "from sklearn.ensemble import RandomForestRegressor\n",
    "\n",
    "from xgboost import XGBRegressor"
   ]
  },
  {
   "cell_type": "markdown",
   "metadata": {},
   "source": [
    "**Обязательное**\n",
    "\n",
    "1. Предскажите цены на недвижимость с помощью регрессии. Данные — дататасет House Prices (train.csv) с kaggle.\n",
    "\n",
    "2. Данных немного, поэтому используйте 10-fold кросс-валидацию, чтобы оценить качество моделей.\n",
    "\n",
    "3. Постройте случайный лес, выведите важность признаков.\n",
    "\n",
    "4. Обучите стекинг как минимум 3х моделей, используйте хотя бы 1 линейную модель и 1 нелинейную.\n",
    "\n",
    "5. Для валидации модели 2-го уровня используйте отдельный hold-out датасет, как на занятии.\n",
    "\n",
    "6. Покажите, что использование ансамблей моделей действительно улучшает качество (стекинг vs другие модели сравнивать на hold-out).\n",
    "\n",
    "Формат сдачи\n",
    "\n",
    "Jupyter-notebook с кодом, комментариями и графиками"
   ]
  },
  {
   "cell_type": "markdown",
   "metadata": {},
   "source": [
    "## Предобработка данных\n",
    "\n",
    "Сразу отделим target-столбец. Соединим train и test наборы в один, чтобы обработать их фичи, после этого разделим их обратно."
   ]
  },
  {
   "cell_type": "code",
   "execution_count": 3,
   "metadata": {
    "collapsed": true
   },
   "outputs": [],
   "source": [
    "train_df = pd.read_csv('train.csv')\n",
    "test_df = pd.read_csv('test.csv')\n",
    "\n",
    "y = train_df.SalePrice\n",
    "train_df.drop('SalePrice', axis=1, inplace=True)"
   ]
  },
  {
   "cell_type": "code",
   "execution_count": 37,
   "metadata": {
    "collapsed": true
   },
   "outputs": [],
   "source": [
    "# Сохраним информацию о лейблах, чтобы было откуда восстановить\n",
    "label_encoders = {}\n",
    "\n",
    "def concat_datasets(train, test):\n",
    "    trn = train.copy()\n",
    "    tst = test.copy()\n",
    "    trn['is_test'] = 0\n",
    "    tst['is_test'] = 1\n",
    "    return pd.concat([trn, tst])\n",
    "\n",
    "def split_datasetss(df):\n",
    "    train = df[df['is_test'] == 0].drop('is_test', axis=1)\n",
    "    test = df[df['is_test'] == 1].drop('is_test', axis=1)\n",
    "    return (train, test)\n",
    "\n",
    "def preprocess_data(df):\n",
    "    cat_features = [] # ('YearBuilt', 'YearRemodAdd')\n",
    "    set_features = (\n",
    "        'MSSubClass', 'MSZoning', 'Street', 'Alley', 'LotShape', 'LandContour',\n",
    "        'Utilities', 'LotConfig', 'LandSlope', 'Neighborhood', 'Condition1', 'Condition2',\n",
    "        'BldgType', 'HouseStyle',\n",
    "        'OverallQual', 'OverallCond',\n",
    "        'RoofStyle', 'RoofMatl', 'Exterior1st', 'Exterior2nd', 'MasVnrType',\n",
    "        'ExterQual', 'ExterCond', 'Foundation',\n",
    "        'BsmtQual', 'BsmtCond', 'BsmtExposure', 'BsmtFinType1', 'BsmtFinType2',\n",
    "        'Heating', 'HeatingQC', 'CentralAir', 'Electrical', 'KitchenQual', 'Functional',\n",
    "        'FireplaceQu', 'GarageType', 'GarageFinish', 'GarageQual', 'GarageCond', 'PavedDrive',\n",
    "        'PoolQC', 'Fence', 'MiscFeature', 'SaleType', 'SaleCondition'\n",
    "    )\n",
    "    fill_zeroes = (\n",
    "        'MasVnrArea', 'GarageCars',\n",
    "        'BsmtFinSF1', 'BsmtFinSF2',\n",
    "        'BsmtUnfSF', 'TotalBsmtSF',\n",
    "        'BsmtFullBath', 'BsmtHalfBath',\n",
    "        'GarageArea'\n",
    "    )\n",
    "    \n",
    "    for col in cat_features:\n",
    "        df[col] = df[col].astype(str)\n",
    "\n",
    "    for col in set_features:\n",
    "        label = LabelEncoder()\n",
    "        label_encoders[col] = label\n",
    "        values = list(df[col].values)\n",
    "        label.fit(values)\n",
    "        df[col] = label.transform(values)\n",
    "    \n",
    "    for col in fill_zeroes:\n",
    "        df[col] = df[col].fillna(0)\n",
    "\n",
    "    features_to_drop = ['Id', 'LotFrontage', 'GarageYrBlt']\n",
    "\n",
    "    return df.drop(features_to_drop, axis=1)"
   ]
  },
  {
   "cell_type": "code",
   "execution_count": 5,
   "metadata": {
    "collapsed": true
   },
   "outputs": [],
   "source": [
    "df = concat_datasets(train_df, test_df)\n",
    "df = preprocess_data(df)\n",
    "X, X_test = split_datasetss(df)"
   ]
  },
  {
   "cell_type": "markdown",
   "metadata": {},
   "source": [
    "## Создаём hold-out датасет"
   ]
  },
  {
   "cell_type": "code",
   "execution_count": 6,
   "metadata": {
    "collapsed": true
   },
   "outputs": [],
   "source": [
    "X_train, X_val, y_train, y_val = train_test_split(X, y, test_size=0.3, random_state=42, shuffle=True)"
   ]
  },
  {
   "cell_type": "markdown",
   "metadata": {},
   "source": [
    "## Случайный лес\n",
    "Строим случайный лес и смотрим на важность признаков"
   ]
  },
  {
   "cell_type": "code",
   "execution_count": 7,
   "metadata": {},
   "outputs": [
    {
     "data": {
      "text/plain": [
       "RandomForestRegressor(bootstrap=True, criterion='mse', max_depth=None,\n",
       "           max_features='auto', max_leaf_nodes=None,\n",
       "           min_impurity_decrease=0.0, min_impurity_split=None,\n",
       "           min_samples_leaf=1, min_samples_split=2,\n",
       "           min_weight_fraction_leaf=0.0, n_estimators=10, n_jobs=1,\n",
       "           oob_score=False, random_state=0, verbose=0, warm_start=False)"
      ]
     },
     "execution_count": 7,
     "metadata": {},
     "output_type": "execute_result"
    }
   ],
   "source": [
    "rfr = RandomForestRegressor(n_estimators=10, random_state=0)\n",
    "rfr.fit(X_train, y_train)"
   ]
  },
  {
   "cell_type": "code",
   "execution_count": 8,
   "metadata": {},
   "outputs": [
    {
     "data": {
      "text/plain": [
       "0.88915720239831064"
      ]
     },
     "execution_count": 8,
     "metadata": {},
     "output_type": "execute_result"
    }
   ],
   "source": [
    "rfr.score(X_val, y_val)"
   ]
  },
  {
   "cell_type": "code",
   "execution_count": 9,
   "metadata": {},
   "outputs": [
    {
     "data": {
      "text/plain": [
       "<matplotlib.axes._subplots.AxesSubplot at 0x10e248cc0>"
      ]
     },
     "execution_count": 9,
     "metadata": {},
     "output_type": "execute_result"
    },
    {
     "data": {
      "image/png": "[encoded data removed]",
      "text/plain": [
       "<matplotlib.figure.Figure at 0x10e346588>"
      ]
     },
     "metadata": {
      "image/png": {
       "height": 302,
       "width": 650
      }
     },
     "output_type": "display_data"
    }
   ],
   "source": [
    "feat_imp = pd.Series(rfr.feature_importances_, index=X_train.columns)\n",
    "feat_imp.sort_values(ascending=False).iloc[:20].plot(kind='barh', figsize=(10, 5))"
   ]
  },
  {
   "cell_type": "markdown",
   "metadata": {},
   "source": [
    "## Делаем стекинг"
   ]
  },
  {
   "cell_type": "markdown",
   "metadata": {},
   "source": [
    "Инициализируем модели первого уровня"
   ]
  },
  {
   "cell_type": "code",
   "execution_count": 26,
   "metadata": {},
   "outputs": [],
   "source": [
    "models = [\n",
    "    ['rf_pred', RandomForestRegressor(n_estimators=10, random_state=0)],\n",
    "    ['lin_pred', LinearRegression()],\n",
    "    ['dtree_pred', DecisionTreeRegressor(max_depth=10, random_state=0)],\n",
    "    ['lasso', Lasso()]\n",
    "]"
   ]
  },
  {
   "cell_type": "markdown",
   "metadata": {},
   "source": [
    "Далее получаем мета-фичи на основе этих моделей"
   ]
  },
  {
   "cell_type": "code",
   "execution_count": 27,
   "metadata": {
    "collapsed": true
   },
   "outputs": [],
   "source": [
    "def get_meta_feature(model, stack_cv, X_train, y_train, X_test):\n",
    "    meta_train = np.zeros_like(y_train, dtype=float)\n",
    "    meta_test = np.zeros((X_test.shape[0], ), dtype=float)\n",
    "\n",
    "    for train_ind, test_ind in stack_cv.split(X_train, y_train):\n",
    "        model.fit(X_train.iloc[train_ind], y_train.iloc[train_ind])\n",
    "        meta_train[test_ind] = model.predict(X_train.iloc[test_ind])\n",
    "        meta_test += model.predict(X_test)\n",
    "    return meta_train, meta_test / stack_cv.n_splits"
   ]
  },
  {
   "cell_type": "code",
   "execution_count": 29,
   "metadata": {},
   "outputs": [],
   "source": [
    "def stacking(models, X_train, y_train, X_test):\n",
    "    meta_train = []\n",
    "    meta_test = []\n",
    "    col_names = []\n",
    "\n",
    "    stack_cv = KFold(n_splits=10, shuffle=False, random_state=42)\n",
    "\n",
    "    for name, model in tqdm.tqdm(models):\n",
    "        meta_tr, meta_te = get_meta_feature(model, stack_cv, X_train, y_train, X_test)\n",
    "        meta_train.append(meta_tr)\n",
    "        meta_test.append(meta_te)\n",
    "        col_names.append(name)\n",
    "\n",
    "    X_meta_train = pd.DataFrame(np.stack(meta_train, axis=1), columns=col_names)\n",
    "    X_meta_test = pd.DataFrame(np.stack(meta_test, axis=1), columns=col_names)\n",
    "\n",
    "    return X_meta_train, X_meta_test"
   ]
  },
  {
   "cell_type": "code",
   "execution_count": 30,
   "metadata": {},
   "outputs": [
    {
     "name": "stderr",
     "output_type": "stream",
     "text": [
      "100%|██████████| 4/4 [00:01<00:00,  2.41it/s]\n"
     ]
    }
   ],
   "source": [
    "X_meta_train, X_meta_test = stacking(models, X_train, y_train, X_val)"
   ]
  },
  {
   "cell_type": "markdown",
   "metadata": {},
   "source": [
    "Инициализируем и обучаем модель второго уровня"
   ]
  },
  {
   "cell_type": "code",
   "execution_count": 31,
   "metadata": {},
   "outputs": [
    {
     "data": {
      "text/plain": [
       "XGBRegressor(base_score=0.5, booster='gbtree', colsample_bylevel=1,\n",
       "       colsample_bytree=1, gamma=0, learning_rate=0.1, max_delta_step=0,\n",
       "       max_depth=3, min_child_weight=1, missing=None, n_estimators=100,\n",
       "       n_jobs=1, nthread=None, objective='reg:linear', random_state=0,\n",
       "       reg_alpha=0, reg_lambda=1, scale_pos_weight=1, seed=None,\n",
       "       silent=True, subsample=1)"
      ]
     },
     "execution_count": 31,
     "metadata": {},
     "output_type": "execute_result"
    }
   ],
   "source": [
    "meta_model = XGBRegressor()\n",
    "meta_model.fit(X_meta_train, y_train)"
   ]
  },
  {
   "cell_type": "code",
   "execution_count": 32,
   "metadata": {},
   "outputs": [
    {
     "data": {
      "text/plain": [
       "0.89409814845022784"
      ]
     },
     "execution_count": 32,
     "metadata": {},
     "output_type": "execute_result"
    }
   ],
   "source": [
    "meta_score = meta_model.score(X_meta_test, y_val)\n",
    "meta_score"
   ]
  },
  {
   "cell_type": "markdown",
   "metadata": {},
   "source": [
    "Теперь сравним качество стекинга и отдельных моделей"
   ]
  },
  {
   "cell_type": "code",
   "execution_count": 33,
   "metadata": {},
   "outputs": [
    {
     "name": "stderr",
     "output_type": "stream",
     "text": [
      "100%|██████████| 4/4 [00:00<00:00, 21.02it/s]\n"
     ]
    },
    {
     "data": {
      "text/html": [
       "<div>\n",
       "<style scoped>\n",
       "    .dataframe tbody tr th:only-of-type {\n",
       "        vertical-align: middle;\n",
       "    }\n",
       "\n",
       "    .dataframe tbody tr th {\n",
       "        vertical-align: top;\n",
       "    }\n",
       "\n",
       "    .dataframe thead th {\n",
       "        text-align: right;\n",
       "    }\n",
       "</style>\n",
       "<table border=\"1\" class=\"dataframe\">\n",
       "  <thead>\n",
       "    <tr style=\"text-align: right;\">\n",
       "      <th></th>\n",
       "      <th>score</th>\n",
       "    </tr>\n",
       "    <tr>\n",
       "      <th>name</th>\n",
       "      <th></th>\n",
       "    </tr>\n",
       "  </thead>\n",
       "  <tbody>\n",
       "    <tr>\n",
       "      <th>meta-model</th>\n",
       "      <td>0.894098</td>\n",
       "    </tr>\n",
       "    <tr>\n",
       "      <th>rf_pred</th>\n",
       "      <td>0.889157</td>\n",
       "    </tr>\n",
       "    <tr>\n",
       "      <th>lin_pred</th>\n",
       "      <td>0.845688</td>\n",
       "    </tr>\n",
       "    <tr>\n",
       "      <th>dtree_pred</th>\n",
       "      <td>0.742597</td>\n",
       "    </tr>\n",
       "    <tr>\n",
       "      <th>lasso</th>\n",
       "      <td>0.845712</td>\n",
       "    </tr>\n",
       "  </tbody>\n",
       "</table>\n",
       "</div>"
      ],
      "text/plain": [
       "               score\n",
       "name                \n",
       "meta-model  0.894098\n",
       "rf_pred     0.889157\n",
       "lin_pred    0.845688\n",
       "dtree_pred  0.742597\n",
       "lasso       0.845712"
      ]
     },
     "execution_count": 33,
     "metadata": {},
     "output_type": "execute_result"
    }
   ],
   "source": [
    "scores = [\n",
    "    ['meta-model', meta_score]\n",
    "]\n",
    "for name, model in tqdm.tqdm(models):\n",
    "    model.fit(X_train, y_train)\n",
    "    scores.append([name, model.score(X_val, y_val)])\n",
    "\n",
    "scores_df = pd.DataFrame(scores, columns=['name', 'score']).set_index('name')\n",
    "scores_df"
   ]
  },
  {
   "cell_type": "code",
   "execution_count": 34,
   "metadata": {
    "scrolled": true
   },
   "outputs": [
    {
     "data": {
      "text/plain": [
       "<matplotlib.axes._subplots.AxesSubplot at 0x1141e19b0>"
      ]
     },
     "execution_count": 34,
     "metadata": {},
     "output_type": "execute_result"
    },
    {
     "data": {
      "image/png": "[encoded data removed]",
      "text/plain": [
       "<matplotlib.figure.Figure at 0x1141e1320>"
      ]
     },
     "metadata": {
      "image/png": {
       "height": 302,
       "width": 646
      }
     },
     "output_type": "display_data"
    }
   ],
   "source": [
    "scores_df.plot(kind='barh')"
   ]
  },
  {
   "cell_type": "markdown",
   "metadata": {},
   "source": [
    "Делаем предсказания на финальный тест, используя стекинг"
   ]
  },
  {
   "cell_type": "code",
   "execution_count": 35,
   "metadata": {},
   "outputs": [
    {
     "name": "stderr",
     "output_type": "stream",
     "text": [
      "100%|██████████| 4/4 [00:01<00:00,  2.59it/s]\n"
     ]
    },
    {
     "data": {
      "text/plain": [
       "(1459, 2)"
      ]
     },
     "execution_count": 35,
     "metadata": {},
     "output_type": "execute_result"
    }
   ],
   "source": [
    "X_meta_train, X_meta_test = stacking(models, X_train, y_train, X_test)\n",
    "\n",
    "meta_model = XGBRegressor()\n",
    "meta_model.fit(X_meta_train, y_train)\n",
    "\n",
    "y_pred = meta_model.predict(X_meta_test)\n",
    "\n",
    "predictions = pd.DataFrame(\n",
    "    list(zip(test_df['Id'], y_pred)),\n",
    "    columns=['Id', 'SalePrice']\n",
    ")\n",
    "predictions.shape"
   ]
  },
  {
   "cell_type": "code",
   "execution_count": 36,
   "metadata": {
    "collapsed": true
   },
   "outputs": [],
   "source": [
    "predictions.to_csv('submission_stacking.csv', index=False)"
   ]
  }
 ],
 "metadata": {
  "kernelspec": {
   "display_name": "Python 3",
   "language": "python",
   "name": "python3"
  },
  "language_info": {
   "codemirror_mode": {
    "name": "ipython",
    "version": 3
   },
   "file_extension": ".py",
   "mimetype": "text/x-python",
   "name": "python",
   "nbconvert_exporter": "python",
   "pygments_lexer": "ipython3",
   "version": "3.6.3"
  },
  "varInspector": {
   "cols": {
    "lenName": 16,
    "lenType": 16,
    "lenVar": 40
   },
   "kernels_config": {
    "python": {
     "delete_cmd_postfix": "",
     "delete_cmd_prefix": "del ",
     "library": "var_list.py",
     "varRefreshCmd": "print(var_dic_list())"
    },
    "r": {
     "delete_cmd_postfix": ") ",
     "delete_cmd_prefix": "rm(",
     "library": "var_list.r",
     "varRefreshCmd": "cat(var_dic_list()) "
    }
   },
   "types_to_exclude": [
    "module",
    "function",
    "builtin_function_or_method",
    "instance",
    "_Feature"
   ],
   "window_display": false
  }
 },
 "nbformat": 4,
 "nbformat_minor": 2
}
