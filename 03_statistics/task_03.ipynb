{
 "cells": [
  {
   "cell_type": "code",
   "execution_count": 1,
   "metadata": {
    "collapsed": true
   },
   "outputs": [],
   "source": [
    "%matplotlib inline\n",
    "import pandas as pd\n",
    "import matplotlib.pyplot as plt\n",
    "import numpy as np\n",
    "from scipy import stats"
   ]
  },
  {
   "cell_type": "code",
   "execution_count": 2,
   "metadata": {
    "collapsed": true
   },
   "outputs": [],
   "source": [
    "def compare(a,b):\n",
    "    return 'больше чем' if a > b else 'меньше чем' if a < b else 'равен'"
   ]
  },
  {
   "cell_type": "code",
   "execution_count": 3,
   "metadata": {},
   "outputs": [],
   "source": [
    "data = pd.read_csv('hw_25000.csv', delimiter = ',', names = ['index', 'height_inches', 'weight_pounds'], header = 0)\n",
    "data['height'] = data.height_inches * 2.54\n",
    "data['weight'] = data.weight_pounds * 0.453592"
   ]
  },
  {
   "cell_type": "markdown",
   "metadata": {},
   "source": [
    "# 1. Сравнение средних весов игроков\n",
    "\n",
    "Возьмем из нашей выборки 20 человек ростом от 170 до 180см.  \n",
    "Можно ли утверждать, что их средний вес больше, чем в среднем по всем имеющимся данным?"
   ]
  },
  {
   "cell_type": "code",
   "execution_count": 4,
   "metadata": {},
   "outputs": [],
   "source": [
    "sample = data[(data.height >= 170) & (data.height <= 180)]"
   ]
  },
  {
   "cell_type": "code",
   "execution_count": 5,
   "metadata": {
    "collapsed": true
   },
   "outputs": [],
   "source": [
    "random_sample = sample.sample(20)"
   ]
  },
  {
   "cell_type": "code",
   "execution_count": 6,
   "metadata": {},
   "outputs": [
    {
     "name": "stdout",
     "output_type": "stream",
     "text": [
      "Средний вес нашей выборки (58.262459049280004) больше чем средний вес всех данных (57.642208803169794)\n"
     ]
    }
   ],
   "source": [
    "mean_weight_mean = data.weight.mean()\n",
    "sample_weight_mean = random_sample.weight.mean()\n",
    "\n",
    "conclusion = 'Средний вес нашей выборки ({}) {} средний вес всех данных ({})'.format(\n",
    "    sample_weight_mean,\n",
    "    compare(sample_weight_mean, mean_weight_mean),\n",
    "    mean_weight_mean\n",
    ")\n",
    "print(conclusion)"
   ]
  },
  {
   "cell_type": "markdown",
   "metadata": {},
   "source": [
    "# 2. Статистическая значимость\n",
    "\n",
    "Можно ли утверждать, что разница среднего веса людей в исходном файле hw_25000.csv и среднего веса людей во всем наборе данных №2 (датасет `sample`) статистически значима?"
   ]
  },
  {
   "cell_type": "code",
   "execution_count": 7,
   "metadata": {
    "scrolled": true
   },
   "outputs": [
    {
     "name": "stdout",
     "output_type": "stream",
     "text": [
      "P = 0.3902410671390798\n",
      "Так как P-value > 0.05, можно утверждать, что значение веса статистически незначимо\n"
     ]
    }
   ],
   "source": [
    "ttest_result = stats.ttest_1samp(random_sample.weight, mean_weight_mean)\n",
    "\n",
    "print('P = {}'.format(ttest_result.pvalue))\n",
    "if ttest_result.pvalue < 0.05:\n",
    "    print('Так как P-value < 0.05, можно утверждать, что значение веса статистически значимо')\n",
    "else:\n",
    "    print('Так как P-value > 0.05, можно утверждать, что значение веса статистически незначимо')"
   ]
  }
 ],
 "metadata": {
  "kernelspec": {
   "display_name": "Python 3",
   "language": "python",
   "name": "python3"
  },
  "language_info": {
   "codemirror_mode": {
    "name": "ipython",
    "version": 3
   },
   "file_extension": ".py",
   "mimetype": "text/x-python",
   "name": "python",
   "nbconvert_exporter": "python",
   "pygments_lexer": "ipython3",
   "version": "3.6.3"
  }
 },
 "nbformat": 4,
 "nbformat_minor": 2
}
