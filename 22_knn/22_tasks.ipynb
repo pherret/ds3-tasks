{
 "cells": [
  {
   "cell_type": "code",
   "execution_count": 1,
   "metadata": {
    "ExecuteTime": {
     "end_time": "2018-04-25T17:27:30.740159Z",
     "start_time": "2018-04-25T17:27:30.018582Z"
    }
   },
   "outputs": [],
   "source": [
    "%matplotlib inline\n",
    "%config InlineBackend.figure_format = 'retina'\n",
    "\n",
    "import pandas as pd\n",
    "import numpy as np\n",
    "import missingno as mn\n",
    "import math\n",
    "\n",
    "# Visualization libs\n",
    "import matplotlib as mpl\n",
    "import matplotlib.pyplot as plt\n",
    "import seaborn as sns\n",
    "\n",
    "palette = sns.hls_palette(8, l=0.7, s=.8)\n",
    "sns.set(rc={\"figure.figsize\": (6, 6)}, palette=palette)\n",
    "# sns.set_style(\"whitegrid\")\n",
    "# sns.set({})\n",
    "sns.set_style('white')\n",
    "# mpl.rcParams['figure.figsize'] = (10, 5)"
   ]
  },
  {
   "cell_type": "markdown",
   "metadata": {},
   "source": [
    "#  Задание 1: Поиск наиболее близкого имени участника\n",
    "Для каждой распознанной фамилии выведите на экран наиболее подходящий вариант из стартового протокола."
   ]
  },
  {
   "cell_type": "code",
   "execution_count": 2,
   "metadata": {
    "ExecuteTime": {
     "end_time": "2018-04-25T17:27:30.746285Z",
     "start_time": "2018-04-25T17:27:30.742669Z"
    },
    "collapsed": true
   },
   "outputs": [],
   "source": [
    "import Levenshtein"
   ]
  },
  {
   "cell_type": "code",
   "execution_count": 3,
   "metadata": {
    "ExecuteTime": {
     "end_time": "2018-04-25T17:27:30.753647Z",
     "start_time": "2018-04-25T17:27:30.748952Z"
    },
    "collapsed": true
   },
   "outputs": [],
   "source": [
    "# что было написано в заявке\n",
    "\n",
    "claim_list = [\n",
    "    'Шехавцова Анна',\n",
    "    'Гречихина Наталья',\n",
    "    'Козлова Алена',\n",
    "    'Груздева Алина',\n",
    "    'Кущенко Анна',\n",
    "    'Чистякова Анастасия'\n",
    "]"
   ]
  },
  {
   "cell_type": "code",
   "execution_count": 4,
   "metadata": {
    "ExecuteTime": {
     "end_time": "2018-04-25T17:27:30.761652Z",
     "start_time": "2018-04-25T17:27:30.756358Z"
    },
    "collapsed": true
   },
   "outputs": [],
   "source": [
    "# результат расшифровки речи диктора\n",
    "\n",
    "speech_recognition = [\n",
    "    'кучменко она',\n",
    "    'кущенко оксана',\n",
    "    'груздь алина',\n",
    "    'рычихина наталья',\n",
    "    'шиховцева на',\n",
    "    'чистова анастасия'\n",
    "]"
   ]
  },
  {
   "cell_type": "code",
   "execution_count": 5,
   "metadata": {
    "ExecuteTime": {
     "end_time": "2018-04-25T17:27:30.770807Z",
     "start_time": "2018-04-25T17:27:30.763436Z"
    }
   },
   "outputs": [],
   "source": [
    "def find_similar_name(name_to_recognize, claim_list):\n",
    "    most_similar_name = None\n",
    "    min_distance = math.inf\n",
    "    for real_name in claim_list:\n",
    "        distance = Levenshtein.distance(name_to_recognize, real_name)\n",
    "        if min_distance > distance:\n",
    "            most_similar_name = real_name\n",
    "            min_distance = distance\n",
    "    return most_similar_name"
   ]
  },
  {
   "cell_type": "code",
   "execution_count": 6,
   "metadata": {
    "ExecuteTime": {
     "end_time": "2018-04-25T17:27:30.780642Z",
     "start_time": "2018-04-25T17:27:30.773279Z"
    }
   },
   "outputs": [
    {
     "data": {
      "text/plain": [
       "[('кучменко она', 'Кущенко Анна'),\n",
       " ('кущенко оксана', 'Кущенко Анна'),\n",
       " ('груздь алина', 'Груздева Алина'),\n",
       " ('рычихина наталья', 'Гречихина Наталья'),\n",
       " ('шиховцева на', 'Шехавцова Анна'),\n",
       " ('чистова анастасия', 'Чистякова Анастасия')]"
      ]
     },
     "execution_count": 6,
     "metadata": {},
     "output_type": "execute_result"
    }
   ],
   "source": [
    "[(name, find_similar_name(name, claim_list)) for name in speech_recognition]"
   ]
  },
  {
   "cell_type": "markdown",
   "metadata": {},
   "source": [
    "# Задание 2: Модель kNN для распознавания цифр\n",
    "Постройте модель kNN для распознавания цифр.  \n",
    "Посчитайте получившееся значение точности (последняя строка в файле `7. kNN digits.ipynb`)."
   ]
  },
  {
   "cell_type": "code",
   "execution_count": 7,
   "metadata": {
    "ExecuteTime": {
     "end_time": "2018-04-25T17:27:30.867629Z",
     "start_time": "2018-04-25T17:27:30.783276Z"
    },
    "collapsed": true
   },
   "outputs": [],
   "source": [
    "from sklearn import datasets\n",
    "from sklearn.neighbors import KNeighborsClassifier\n",
    "from sklearn.model_selection import train_test_split"
   ]
  },
  {
   "cell_type": "code",
   "execution_count": 8,
   "metadata": {
    "ExecuteTime": {
     "end_time": "2018-04-25T17:27:30.995922Z",
     "start_time": "2018-04-25T17:27:30.869775Z"
    },
    "collapsed": true
   },
   "outputs": [],
   "source": [
    "digits = datasets.load_digits()"
   ]
  },
  {
   "cell_type": "code",
   "execution_count": 9,
   "metadata": {
    "ExecuteTime": {
     "end_time": "2018-04-25T17:27:31.001689Z",
     "start_time": "2018-04-25T17:27:30.998070Z"
    },
    "collapsed": true
   },
   "outputs": [],
   "source": [
    "X_digits = digits.data\n",
    "Y_digits = digits.target"
   ]
  },
  {
   "cell_type": "code",
   "execution_count": 10,
   "metadata": {
    "ExecuteTime": {
     "end_time": "2018-04-25T17:27:31.009717Z",
     "start_time": "2018-04-25T17:27:31.004625Z"
    },
    "collapsed": true
   },
   "outputs": [],
   "source": [
    "X_train, X_test, y_train, y_test = train_test_split(X_digits, Y_digits, test_size=0.1)"
   ]
  },
  {
   "cell_type": "code",
   "execution_count": 11,
   "metadata": {
    "ExecuteTime": {
     "end_time": "2018-04-25T17:27:31.023057Z",
     "start_time": "2018-04-25T17:27:31.012598Z"
    }
   },
   "outputs": [
    {
     "data": {
      "text/plain": [
       "KNeighborsClassifier(algorithm='auto', leaf_size=30, metric='minkowski',\n",
       "           metric_params=None, n_jobs=1, n_neighbors=5, p=2,\n",
       "           weights='uniform')"
      ]
     },
     "execution_count": 11,
     "metadata": {},
     "output_type": "execute_result"
    }
   ],
   "source": [
    "model = KNeighborsClassifier(n_neighbors=5)\n",
    "model.fit(X_train, y_train)"
   ]
  },
  {
   "cell_type": "code",
   "execution_count": 12,
   "metadata": {
    "ExecuteTime": {
     "end_time": "2018-04-25T17:27:31.061129Z",
     "start_time": "2018-04-25T17:27:31.026397Z"
    }
   },
   "outputs": [
    {
     "data": {
      "text/plain": [
       "0.99444444444444446"
      ]
     },
     "execution_count": 12,
     "metadata": {},
     "output_type": "execute_result"
    }
   ],
   "source": [
    "model.score( X_test, y_test )"
   ]
  },
  {
   "cell_type": "code",
   "execution_count": 13,
   "metadata": {
    "ExecuteTime": {
     "end_time": "2018-04-25T17:27:31.103105Z",
     "start_time": "2018-04-25T17:27:31.064186Z"
    }
   },
   "outputs": [
    {
     "data": {
      "text/plain": [
       "[(9, 5)]"
      ]
     },
     "execution_count": 13,
     "metadata": {},
     "output_type": "execute_result"
    }
   ],
   "source": [
    "# найдём нераспознанные цифры\n",
    "[(x, y) for x, y in zip(model.predict(X_test), y_test) if x != y]"
   ]
  }
 ],
 "metadata": {
  "kernelspec": {
   "display_name": "Python 3",
   "language": "python",
   "name": "python3"
  },
  "language_info": {
   "codemirror_mode": {
    "name": "ipython",
    "version": 3
   },
   "file_extension": ".py",
   "mimetype": "text/x-python",
   "name": "python",
   "nbconvert_exporter": "python",
   "pygments_lexer": "ipython3",
   "version": "3.6.3"
  },
  "toc": {
   "base_numbering": 1,
   "nav_menu": {},
   "number_sections": false,
   "sideBar": true,
   "skip_h1_title": false,
   "title_cell": "Table of Contents",
   "title_sidebar": "Contents",
   "toc_cell": false,
   "toc_position": {
    "height": "calc(100% - 180px)",
    "left": "10px",
    "top": "150px",
    "width": "288px"
   },
   "toc_section_display": true,
   "toc_window_display": false
  },
  "varInspector": {
   "cols": {
    "lenName": 16,
    "lenType": 16,
    "lenVar": 40
   },
   "kernels_config": {
    "python": {
     "delete_cmd_postfix": "",
     "delete_cmd_prefix": "del ",
     "library": "var_list.py",
     "varRefreshCmd": "print(var_dic_list())"
    },
    "r": {
     "delete_cmd_postfix": ") ",
     "delete_cmd_prefix": "rm(",
     "library": "var_list.r",
     "varRefreshCmd": "cat(var_dic_list()) "
    }
   },
   "types_to_exclude": [
    "module",
    "function",
    "builtin_function_or_method",
    "instance",
    "_Feature"
   ],
   "window_display": false
  }
 },
 "nbformat": 4,
 "nbformat_minor": 2
}
